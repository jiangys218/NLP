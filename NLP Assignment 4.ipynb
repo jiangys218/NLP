{
 "cells": [
  {
   "cell_type": "code",
   "execution_count": 202,
   "metadata": {},
   "outputs": [
    {
     "data": {
      "text/html": [
       "<div>\n",
       "<style scoped>\n",
       "    .dataframe tbody tr th:only-of-type {\n",
       "        vertical-align: middle;\n",
       "    }\n",
       "\n",
       "    .dataframe tbody tr th {\n",
       "        vertical-align: top;\n",
       "    }\n",
       "\n",
       "    .dataframe thead th {\n",
       "        text-align: right;\n",
       "    }\n",
       "</style>\n",
       "<table border=\"1\" class=\"dataframe\">\n",
       "  <thead>\n",
       "    <tr style=\"text-align: right;\">\n",
       "      <th></th>\n",
       "      <th>Violations</th>\n",
       "      <th>Results</th>\n",
       "    </tr>\n",
       "  </thead>\n",
       "  <tbody>\n",
       "    <tr>\n",
       "      <th>0</th>\n",
       "      <td>3. MANAGEMENT, FOOD EMPLOYEE AND CONDITIONAL E...</td>\n",
       "      <td>Pass w/ Conditions</td>\n",
       "    </tr>\n",
       "    <tr>\n",
       "      <th>1</th>\n",
       "      <td>37. FOOD PROPERLY LABELED; ORIGINAL CONTAINER ...</td>\n",
       "      <td>Pass</td>\n",
       "    </tr>\n",
       "    <tr>\n",
       "      <th>3</th>\n",
       "      <td>3. MANAGEMENT, FOOD EMPLOYEE AND CONDITIONAL E...</td>\n",
       "      <td>Pass w/ Conditions</td>\n",
       "    </tr>\n",
       "    <tr>\n",
       "      <th>4</th>\n",
       "      <td>2. CITY OF CHICAGO FOOD SERVICE SANITATION CER...</td>\n",
       "      <td>Fail</td>\n",
       "    </tr>\n",
       "    <tr>\n",
       "      <th>6</th>\n",
       "      <td>8. SANITIZING RINSE FOR EQUIPMENT AND UTENSILS...</td>\n",
       "      <td>Pass w/ Conditions</td>\n",
       "    </tr>\n",
       "  </tbody>\n",
       "</table>\n",
       "</div>"
      ],
      "text/plain": [
       "                                          Violations             Results\n",
       "0  3. MANAGEMENT, FOOD EMPLOYEE AND CONDITIONAL E...  Pass w/ Conditions\n",
       "1  37. FOOD PROPERLY LABELED; ORIGINAL CONTAINER ...                Pass\n",
       "3  3. MANAGEMENT, FOOD EMPLOYEE AND CONDITIONAL E...  Pass w/ Conditions\n",
       "4  2. CITY OF CHICAGO FOOD SERVICE SANITATION CER...                Fail\n",
       "6  8. SANITIZING RINSE FOR EQUIPMENT AND UTENSILS...  Pass w/ Conditions"
      ]
     },
     "execution_count": 202,
     "metadata": {},
     "output_type": "execute_result"
    }
   ],
   "source": [
    "#load data\n",
    "import pandas as pd\n",
    "path = \"Desktop/Food_Inspections.csv\"\n",
    "df = pd.read_csv(path)\n",
    "df = pd.DataFrame(df, columns =  ['Violations', 'Results']).dropna()\n",
    "df.head(5)"
   ]
  },
  {
   "cell_type": "code",
   "execution_count": 203,
   "metadata": {},
   "outputs": [],
   "source": [
    "#extract comments\n",
    "import re\n",
    "vio = [df.iloc[i,0]+\"|\" for i in range (df.shape[0])]\n",
    "pattern = \"\\- Comments:(.*?)\\|\"\n",
    "comments = [re.findall(pattern, vio[i]) for i in range(len(vio))]\n",
    "flatcom = [', '.join(comments[i]) for i in range(len(comments))]\n",
    "\n",
    "#put flatcom back into df\n",
    "df['Violations'] = pd.DataFrame(flatcom)"
   ]
  },
  {
   "cell_type": "code",
   "execution_count": 216,
   "metadata": {},
   "outputs": [],
   "source": [
    "#reset index\n",
    "x = df.Results.reset_index(drop=True)"
   ]
  },
  {
   "cell_type": "code",
   "execution_count": 237,
   "metadata": {},
   "outputs": [],
   "source": [
    "#reclassify to 2 classes\n",
    "for i in range(len(x)):\n",
    "    if x[i] == \"Fail\":\n",
    "        x[i] = 0\n",
    "    else:\n",
    "        x[i] = 1\n",
    "        \n",
    "df['Results'] = x"
   ]
  },
  {
   "cell_type": "code",
   "execution_count": 241,
   "metadata": {},
   "outputs": [],
   "source": [
    "#split train and test data\n",
    "from sklearn.model_selection import train_test_split\n",
    "df.dropna(subset = ['Violations'], inplace=True)\n",
    "X = df.Violations\n",
    "y = df.Results\n",
    "y = y.astype('int')\n",
    "X_train, X_test, y_train, y_test = train_test_split(X, y, random_state=1)\n"
   ]
  },
  {
   "cell_type": "code",
   "execution_count": 252,
   "metadata": {},
   "outputs": [],
   "source": [
    "# instantiate the vectorizer\n",
    "from sklearn.feature_extraction.text import CountVectorizer,TfidfVectorizer\n",
    "vect = CountVectorizer(stop_words='english',ngram_range=(1, 3))\n",
    "#Comment: We use two text pre-processing techniques: removing stop words and utilizing ngrams. \n",
    "\n",
    "# learn training data vocabulary, then use it to create a document-term matrix\n",
    "vect.fit(X_train)\n",
    "X_train_dtm = vect.transform(X_train)\n",
    "\n",
    "# equivalently: combine fit and transform into a single step\n",
    "X_train_dtm = vect.fit_transform(X_train)\n",
    "\n",
    "# transform testing data (using fitted vocabulary) into a document-term matrix\n",
    "X_test_dtm = vect.transform(X_test)"
   ]
  },
  {
   "cell_type": "markdown",
   "metadata": {},
   "source": [
    "Logistic Regression Model"
   ]
  },
  {
   "cell_type": "code",
   "execution_count": 247,
   "metadata": {},
   "outputs": [
    {
     "name": "stderr",
     "output_type": "stream",
     "text": [
      "//anaconda3/lib/python3.7/site-packages/sklearn/linear_model/logistic.py:432: FutureWarning: Default solver will be changed to 'lbfgs' in 0.22. Specify a solver to silence this warning.\n",
      "  FutureWarning)\n",
      "//anaconda3/lib/python3.7/site-packages/sklearn/svm/base.py:929: ConvergenceWarning: Liblinear failed to converge, increase the number of iterations.\n",
      "  \"the number of iterations.\", ConvergenceWarning)\n"
     ]
    },
    {
     "name": "stdout",
     "output_type": "stream",
     "text": [
      "Accuracy Score\n",
      "0.8588524650343232\n",
      "\n",
      "Classification Report\n",
      "              precision    recall  f1-score   support\n",
      "\n",
      "           0       0.13      0.03      0.05      3287\n",
      "           1       0.88      0.97      0.92     23954\n",
      "\n",
      "    accuracy                           0.86     27241\n",
      "   macro avg       0.50      0.50      0.49     27241\n",
      "weighted avg       0.79      0.86      0.82     27241\n",
      "\n",
      "\n",
      "Confusion Matrix\n",
      "[[   98  3189]\n",
      " [  656 23298]]\n"
     ]
    }
   ],
   "source": [
    "from sklearn.linear_model import LogisticRegression\n",
    "from sklearn import metrics\n",
    "from sklearn.metrics import classification_report, confusion_matrix, accuracy_score\n",
    "\n",
    "logreg = LogisticRegression()\n",
    "logreg.fit(X_train_dtm, y_train)\n",
    "y_pred_class = logreg.predict(X_test_dtm)\n",
    "print(\"Accuracy Score\")\n",
    "print(metrics.accuracy_score(y_test, y_pred_class))\n",
    "print(\"\\nClassification Report\")\n",
    "print(classification_report(y_test, y_pred_class))\n",
    "print(\"\\nConfusion Matrix\")\n",
    "print(metrics.confusion_matrix(y_test, y_pred_class))"
   ]
  },
  {
   "cell_type": "markdown",
   "metadata": {},
   "source": [
    "Naive Bayes Model"
   ]
  },
  {
   "cell_type": "code",
   "execution_count": 243,
   "metadata": {},
   "outputs": [
    {
     "name": "stdout",
     "output_type": "stream",
     "text": [
      "Accuracy Score\n",
      "0.8756286479938328\n",
      "\n",
      "Classification Report\n",
      "              precision    recall  f1-score   support\n",
      "\n",
      "           0       0.11      0.00      0.01      3287\n",
      "           1       0.88      1.00      0.93     23954\n",
      "\n",
      "    accuracy                           0.88     27241\n",
      "   macro avg       0.50      0.50      0.47     27241\n",
      "weighted avg       0.79      0.88      0.82     27241\n",
      "\n",
      "\n",
      "Confusion Matrix\n",
      "[[   15  3272]\n",
      " [  116 23838]]\n"
     ]
    }
   ],
   "source": [
    "from sklearn.naive_bayes import MultinomialNB\n",
    "\n",
    "nb = MultinomialNB()\n",
    "nb.fit(X_train_dtm, y_train)\n",
    "y_pred_class_nb = nb.predict(X_test_dtm)\n",
    "print(\"Accuracy Score\")\n",
    "print(metrics.accuracy_score(y_test, y_pred_class_nb))\n",
    "print(\"\\nClassification Report\")\n",
    "print(classification_report(y_test, y_pred_class_nb))\n",
    "print(\"\\nConfusion Matrix\")\n",
    "print(metrics.confusion_matrix(y_test, y_pred_class_nb))"
   ]
  },
  {
   "cell_type": "markdown",
   "metadata": {},
   "source": [
    "Support Vector Machine"
   ]
  },
  {
   "cell_type": "code",
   "execution_count": 253,
   "metadata": {},
   "outputs": [
    {
     "name": "stdout",
     "output_type": "stream",
     "text": [
      "Accuracy Score\n",
      "0.8438016225542381\n",
      "\n",
      "Classification Report\n",
      "              precision    recall  f1-score   support\n",
      "\n",
      "           0       0.14      0.06      0.08      3287\n",
      "           1       0.88      0.95      0.91     23954\n",
      "\n",
      "    accuracy                           0.84     27241\n",
      "   macro avg       0.51      0.50      0.50     27241\n",
      "weighted avg       0.79      0.84      0.81     27241\n",
      "\n",
      "\n",
      "Confusion Matrix\n",
      "[[  184  3103]\n",
      " [ 1152 22802]]\n"
     ]
    }
   ],
   "source": [
    "from sklearn.linear_model import SGDClassifier\n",
    "\n",
    "svm = SGDClassifier(max_iter=100, tol=None)\n",
    "svm.fit(X_train_dtm, y_train)\n",
    "y_pred_class_svm = svm.predict(X_test_dtm)\n",
    "print(\"Accuracy Score\")\n",
    "print(metrics.accuracy_score(y_test, y_pred_class_svm))\n",
    "print(\"\\nClassification Report\")\n",
    "print(classification_report(y_test, y_pred_class_svm))\n",
    "print(\"\\nConfusion Matrix\")\n",
    "print(metrics.confusion_matrix(y_test, y_pred_class_svm))"
   ]
  },
  {
   "cell_type": "code",
   "execution_count": 248,
   "metadata": {},
   "outputs": [
    {
     "data": {
      "image/png": "[encoded data removed]",
      "text/plain": [
       "<Figure size 432x288 with 1 Axes>"
      ]
     },
     "metadata": {
      "needs_background": "light"
     },
     "output_type": "display_data"
    }
   ],
   "source": [
    "#ROC Curve Graph for Logistics Regression\n",
    "import sklearn.metrics as metrics\n",
    "# calculate the fpr and tpr for all thresholds of the classification\n",
    "probs = logreg.predict_proba(X_test_dtm)\n",
    "preds = probs[:,1]\n",
    "fpr, tpr, threshold = metrics.roc_curve(y_test, preds)\n",
    "roc_auc = metrics.auc(fpr, tpr)\n",
    "\n",
    "# method I: plt\n",
    "import matplotlib.pyplot as plt\n",
    "plt.title('Receiver Operating Characteristic')\n",
    "plt.plot(fpr, tpr, 'b', label = 'AUC = %0.2f' % roc_auc)\n",
    "plt.legend(loc = 'lower right')\n",
    "plt.plot([0, 1], [0, 1],'r--')\n",
    "plt.xlim([0, 1])\n",
    "plt.ylim([0, 1])\n",
    "plt.ylabel('True Positive Rate')\n",
    "plt.xlabel('False Positive Rate')\n",
    "plt.show()"
   ]
  },
  {
   "cell_type": "code",
   "execution_count": 244,
   "metadata": {},
   "outputs": [
    {
     "data": {
      "image/png": "[encoded data removed]",
      "text/plain": [
       "<Figure size 432x288 with 1 Axes>"
      ]
     },
     "metadata": {
      "needs_background": "light"
     },
     "output_type": "display_data"
    }
   ],
   "source": [
    "#ROC Curve Graph for Navie Bayes\n",
    "import sklearn.metrics as metrics\n",
    "# calculate the fpr and tpr for all thresholds of the classification\n",
    "probs = nb.predict_proba(X_test_dtm)\n",
    "preds = probs[:,1]\n",
    "fpr, tpr, threshold = metrics.roc_curve(y_test, preds)\n",
    "roc_auc = metrics.auc(fpr, tpr)\n",
    "\n",
    "# method I: plt\n",
    "import matplotlib.pyplot as plt\n",
    "plt.title('Receiver Operating Characteristic')\n",
    "plt.plot(fpr, tpr, 'b', label = 'AUC = %0.2f' % roc_auc)\n",
    "plt.legend(loc = 'lower right')\n",
    "plt.plot([0, 1], [0, 1],'r--')\n",
    "plt.xlim([0, 1])\n",
    "plt.ylim([0, 1])\n",
    "plt.ylabel('True Positive Rate')\n",
    "plt.xlabel('False Positive Rate')\n",
    "plt.show()"
   ]
  },
  {
   "cell_type": "markdown",
   "metadata": {},
   "source": [
    "Comment: We first reclassify our output into two levels: fail and pass. Then we use Count Vectorizer with the argument to remove stop words as well as to perform n grams. After these text preprocessing steps, we split our data into training and testing set, and perform 3 classification models: Logistic Regression, SVM, and Navie Bayes. All the models has accuracy rates at around 80+%, with Navie Bayes being the best performing model based on accuracy rates. However, we notice that our data is extremely inbalance. The accuracy rate could be as high as 87% if we simply classified all the data as \"pass\". Hence, when we are looking at the ROC curve for Logistics and Navie Bayes, the AUC is around 50%, which indicates that the models are not able to classify the two classes correctly. "
   ]
  }
 ],
 "metadata": {
  "kernelspec": {
   "display_name": "Python 3",
   "language": "python",
   "name": "python3"
  },
  "language_info": {
   "codemirror_mode": {
    "name": "ipython",
    "version": 3
   },
   "file_extension": ".py",
   "mimetype": "text/x-python",
   "name": "python",
   "nbconvert_exporter": "python",
   "pygments_lexer": "ipython3",
   "version": "3.7.3"
  }
 },
 "nbformat": 4,
 "nbformat_minor": 2
}
