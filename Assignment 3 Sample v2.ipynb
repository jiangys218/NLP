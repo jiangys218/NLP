{
 "cells": [
  {
   "cell_type": "markdown",
   "metadata": {},
   "source": [
    "## Importing Libraries"
   ]
  },
  {
   "cell_type": "markdown",
   "metadata": {},
   "source": [
    "In this notebook, we'll examine the impact of choosing n in our n-grams across two libraries of texts. Onelibrary is comprised of several full-length novels, while another consists of articles of varying lenghts. We'llﬁrst deﬁne several helper functions that will be re-used throughout this process (each one is commented).We'll then proceed to evaluate our choice of n, per library, and then ﬁnally, use that n-value to compare ourlibrary of texts and return Jaccard similarity values for the more similiar texts."
   ]
  },
  {
   "cell_type": "code",
   "execution_count": 2,
   "metadata": {
    "scrolled": true
   },
   "outputs": [],
   "source": [
    "from __future__ import division\n",
    "import nltk\n",
    "import string\n",
    "import os\n",
    "from nltk.corpus import stopwords\n",
    "from itertools import combinations\n",
    "import matplotlib.pyplot as plt\n",
    "import numpy as np"
   ]
  },
  {
   "cell_type": "markdown",
   "metadata": {},
   "source": [
    "## Defining Functions"
   ]
  },
  {
   "cell_type": "code",
   "execution_count": 3,
   "metadata": {},
   "outputs": [],
   "source": [
    "def ngram_compare_files(file1,file2,n):\n",
    "    # Takes two files\n",
    "    # hashes their n-grams into twos lists\n",
    "    # calculates the intersection and union\n",
    "    # of the two lists, and returns\n",
    "    # Jacard similarity value\n",
    " \n",
    "    stop = stopwords.words('english')\n",
    "    f1 = open(file1)\n",
    "    raw = f1.read()\n",
    "    f1.close()\n",
    "    f1_grams = nltk.ngrams(raw.split(),n)\n",
    "    \n",
    "    array_1 = []\n",
    "    \n",
    "    for gram in f1_grams:\n",
    "        array_1.append(hash(gram))\n",
    "    f2 = open(file2)\n",
    "    raw = f2.read()\n",
    "    f2.close()\n",
    "    f2_grams = nltk.ngrams(raw.split(),n)\n",
    "    \n",
    "    array_2 = []\n",
    "    \n",
    "    for gram in f2_grams:\n",
    "        array_2.append(hash(gram))\n",
    "        \n",
    "    intersection = len(list(set(array_1).intersection(array_2)))    \n",
    "    union = len(set(array_1)) + len(set(array_2)) - intersection\n",
    "    jacard_similarity = intersection / union\n",
    "    return jacard_similarity\n",
    "\n",
    "\n",
    "def pairs_of_files(directory):\n",
    "    # returns combination of two files given\n",
    "    # all files in a directory\n",
    "    \n",
    "    dir = os.listdir(directory)\n",
    "    combo = combinations(dir, 2)\n",
    "    return combo\n",
    "\n",
    "def compare_files(directory,ngram_size,threshold):\n",
    "    # compares all pairs of files in a directory\n",
    "    # for similarity.\n",
    "    # RETURNS: Dictionary, with key as\n",
    "    # comma-separated string of two files\n",
    "    # and value of similarity index as decimal\n",
    "    # where similarity index is above threshold\n",
    "    # value.\n",
    "    \n",
    "    compare_dictionary = {}\n",
    "    \n",
    "    ngram = ngram_size\n",
    "    combo = pairs_of_files(directory)\n",
    "    \n",
    "    for i in combo:\n",
    "        \n",
    "        sim = ngram_compare_files(directory+str(i[0]),directory+str(i[1]),ngram)\n",
    "        if sim > threshold:\n",
    "            \n",
    "            key = str(i[0]) + \",\" + str(i[1])\n",
    "            value = sim\n",
    "            compare_dictionary[key]=value\n",
    "            \n",
    "    return compare_dictionary            "
   ]
  },
  {
   "cell_type": "markdown",
   "metadata": {},
   "source": [
    "## Choosing 'N'"
   ]
  },
  {
   "cell_type": "markdown",
   "metadata": {},
   "source": [
    "In order to determine a proper N-value for a n-grams, we evaluate the impact of N over a range of 2 to 20.\n",
    "We do this by repeating our similarity measure (Jaccardian similarity) for each N, and plotting similairity."
   ]
  },
  {
   "cell_type": "markdown",
   "metadata": {},
   "source": [
    "### Running for Books"
   ]
  },
  {
   "cell_type": "code",
   "execution_count": 4,
   "metadata": {},
   "outputs": [],
   "source": [
    "dir = '/Users/berryjiang/Downloads/'"
   ]
  },
  {
   "cell_type": "code",
   "execution_count": 5,
   "metadata": {},
   "outputs": [],
   "source": [
    "x = []\n",
    "y = []\n",
    "yall = []\n",
    "\n",
    "for n in range(2,20):\n",
    "        \n",
    "    books_comparison = compare_files(dir+'Assignment 3 Books/',ngram_size=n,threshold=-1)\n",
    "    a = np.zeros(len(books_comparison))\n",
    "    counter = 0\n",
    "    for key, value in books_comparison.items():\n",
    "        a[counter] = value\n",
    "        counter +=1\n",
    "    #print str(n) + \":\" + str(a.mean())\n",
    "    x.append(n)\n",
    "    yall.append(a*100)\n",
    "    y.append(a.mean()*100)"
   ]
  },
  {
   "cell_type": "markdown",
   "metadata": {},
   "source": [
    "Plot the distributions"
   ]
  },
  {
   "cell_type": "code",
   "execution_count": 6,
   "metadata": {},
   "outputs": [
    {
     "data": {
      "image/png": "[encoded data removed]",
      "text/plain": [
       "<Figure size 432x288 with 1 Axes>"
      ]
     },
     "metadata": {
      "needs_background": "light"
     },
     "output_type": "display_data"
    }
   ],
   "source": [
    "plt.plot(x,y, linestyle = '-')\n",
    "#plt.plot(x,yall, linestyle = '--')\n",
    "plt.xlabel('n in n-grams')\n",
    "plt.ylabel('Similarity (pct)')\n",
    "plt.title('Similarity Across All Books per N n-gram')\n",
    "plt.grid()\n",
    "plt.show()"
   ]
  },
  {
   "cell_type": "markdown",
   "metadata": {},
   "source": [
    "Based on the graph above, we can see that the mean similarity index is higher when number of n chosen is smaller, which make sense as the smaller the n, and easier to have overlap words in the phrase, which will lead to a higher similarity index value. When n is small (below 3), the similarity values could be between 10% to 4%. On the other hand, when n is large, the similarity values maintain at around 1%. We can see that the elbow value of number of n is around n=4, which has a mean similar value of around 1%. Therefore, we selected the number of n to be 4 and set our threshold to 1% to evaluation the similarity values for all the pairs of books. "
   ]
  },
  {
   "cell_type": "markdown",
   "metadata": {},
   "source": [
    "### Running for Articles"
   ]
  },
  {
   "cell_type": "code",
   "execution_count": 8,
   "metadata": {},
   "outputs": [],
   "source": [
    "x = []\n",
    "y = []\n",
    "yall = []\n",
    "\n",
    "for n in range(2,20):\n",
    "    \n",
    "    art_comparison = compare_files(dir+'Assignment 3 Articles/',ngram_size=n,threshold=-1)\n",
    "    a = np.zeros(len(art_comparison))\n",
    "    counter = 0\n",
    "    for key, value in art_comparison.items():\n",
    "        a[counter] = value\n",
    "        counter +=1\n",
    "    #print str(n) + \":\" + str(a.mean())\n",
    "    x.append(n)\n",
    "    yall.append(a*100)\n",
    "    y.append(a.mean()*100)"
   ]
  },
  {
   "cell_type": "code",
   "execution_count": 9,
   "metadata": {},
   "outputs": [
    {
     "data": {
      "image/png": "[encoded data removed]",
      "text/plain": [
       "<Figure size 432x288 with 1 Axes>"
      ]
     },
     "metadata": {
      "needs_background": "light"
     },
     "output_type": "display_data"
    }
   ],
   "source": [
    "plt.plot(x,y, linestyle = '-')\n",
    "#plt.plot(x,yall, linestyle = '--')\n",
    "plt.xlabel('n in n-grams')\n",
    "plt.ylabel('Similarity (pct)')\n",
    "plt.title('Mean Similarity Across All Articles per N n-gram')\n",
    "plt.grid()\n",
    "plt.show()"
   ]
  },
  {
   "cell_type": "markdown",
   "metadata": {},
   "source": [
    "Based on the graph above, we can see that when n is small (n < 4), the similarity value increase exponentially when n decrease. On the other hand, when n is large (n >=4), the similarity values decrease at a very slow rate and maintain at around 0.075%. We can see that the elbow value of number of n is around n=3, which has a mean similar value of around 0.3%. Therefore, we selected the number of n to be 3. Since there are many pairs of articles within the total of 40 samples, we decided to set our threshold higher than the mean similarity value in order to better present the top similar pairs of article. We select a threshold value of 1.2%."
   ]
  },
  {
   "cell_type": "markdown",
   "metadata": {},
   "source": [
    "Compare between mean similarity value for books and articles: \n",
    "Based on the graphs above, we can see the elbow value of the mean similarity value graph for books and articles is very similar (around n=3 or 4). I would not expect the selected n value to be too different for books and articles since all the books and articles are in the same language, which should have a similar number of gram that works. Plus, three-grams, four-grams, and five-grams have been the popular options for n-gram algorithm as they have relatively better and more stable performance. \n",
    "One major difference between the the mean similarity value graph for books and articles is the range of mean similarity value for books (1%-10%) is a lot wider than the range of the mean similarity value for articles (0.2%-1.2%). However, based on the similarity value comparsion below, the highest similar value for books for n=4 is around 2% while the highest similarity value for articles when n=3 is as high as 72%. One reasons for this difference is because there are a lot more numbers of pairs of articles as compares to numbers of pairs of books, so the mean similarity value for articles shifted to a very low value as most pairs of articles are not similar. "
   ]
  },
  {
   "cell_type": "markdown",
   "metadata": {},
   "source": [
    "## Books measuring similarity"
   ]
  },
  {
   "cell_type": "markdown",
   "metadata": {},
   "source": [
    "After having our n for books chosen as '4', we'll examine the similairty of our set of books, and use a\n",
    "threshold value of 1%. This threshold value will filter our any books with similarities below that value, in order\n",
    "to allow us to focus on the most promininent combinations of books that are similar."
   ]
  },
  {
   "cell_type": "code",
   "execution_count": 11,
   "metadata": {},
   "outputs": [
    {
     "name": "stdout",
     "output_type": "stream",
     "text": [
      "1\n",
      "Adventures_of_Sherlock_Holmes.txt is similar to Return_of_Sherlock_Holmes.txt with a Similarity Index of 2.332%\n",
      "\n",
      "\n",
      "1\n",
      "Adventures_of_Sherlock_Holmes.txt is similar to Hound_of_the_Baskervilles.txt with a Similarity Index of 2.444%\n",
      "\n",
      "\n",
      "1\n",
      "Return_of_Sherlock_Holmes.txt is similar to Hound_of_the_Baskervilles.txt with a Similarity Index of 2.430%\n",
      "\n",
      "\n"
     ]
    }
   ],
   "source": [
    "books_comparison = compare_files(dir+'Assignment 3 Books/',ngram_size=4,threshold=0.01)\n",
    "\n",
    "\n",
    "for k,v in books_comparison.items():\n",
    "    book1, book2 = k.split(',')\n",
    "    similarity_index = v\n",
    "    print (\"1\")\n",
    "    print (str(book1) + \" is similar to \" + str(book2) + \n",
    "           \" with a Similarity Index of \" + '{percent:.3%}'.format(percent=similarity_index) +\"\\n\" +\"\\n\")\n",
    "    "
   ]
  },
  {
   "cell_type": "markdown",
   "metadata": {},
   "source": [
    "Based on the result above, we can see that \"Adventure of Sherlock Holmes\" and \"Hound of the Baskervilles\" are the most similar book with a similairty index of 2.44%. The book \"Return of Sherlock Holmes\" and \"Hound of the Baskervilles\" have a similarity index that is slightly below the highest (2.43%). The third most similar books are \"Adventure of Sherlock Holmes\" and \"Return of Sherlock Holmes\", which have a similarity index of 2.332%. All of these three books have similarity indexes are very close to each other, which means all three books are similar. Unlike the book \"3boat10\", which has its similarity indexes with all other books are below the threshold of 1%, which means this book is not similar to any of the three books. "
   ]
  },
  {
   "cell_type": "markdown",
   "metadata": {},
   "source": [
    "## Articles measuring similarity"
   ]
  },
  {
   "cell_type": "markdown",
   "metadata": {},
   "source": [
    "After having our n for articles chosen as '3', we'll examine the similairty of our set of articles, and use a\n",
    "threshold value of 0.3%. This threshold value will filter our any articles with similarities below that value, in\n",
    "order to allow us to focus on the most promininent combinations of articles that are similar."
   ]
  },
  {
   "cell_type": "code",
   "execution_count": 14,
   "metadata": {},
   "outputs": [
    {
     "name": "stdout",
     "output_type": "stream",
     "text": [
      "article8.txt is similar to article14.txt with a Similarity Index of 1.277%\n",
      "\n",
      "\n",
      "article18.txt is similar to article4.txt with a Similarity Index of 2.857%\n",
      "\n",
      "\n",
      "article18.txt is similar to article1.txt with a Similarity Index of 3.681%\n",
      "\n",
      "\n",
      "article18.txt is similar to article3.txt with a Similarity Index of 3.150%\n",
      "\n",
      "\n",
      "article30.txt is similar to article25.txt with a Similarity Index of 1.266%\n",
      "\n",
      "\n",
      "article30.txt is similar to article21.txt with a Similarity Index of 2.183%\n",
      "\n",
      "\n",
      "article31.txt is similar to article26.txt with a Similarity Index of 8.000%\n",
      "\n",
      "\n",
      "article31.txt is similar to article32.txt with a Similarity Index of 2.151%\n",
      "\n",
      "\n",
      "article31.txt is similar to article28.txt with a Similarity Index of 8.621%\n",
      "\n",
      "\n",
      "article26.txt is similar to article32.txt with a Similarity Index of 2.597%\n",
      "\n",
      "\n",
      "article26.txt is similar to article28.txt with a Similarity Index of 9.790%\n",
      "\n",
      "\n",
      "article32.txt is similar to article28.txt with a Similarity Index of 2.778%\n",
      "\n",
      "\n",
      "article36.txt is similar to article35.txt with a Similarity Index of 1.887%\n",
      "\n",
      "\n",
      "article23.txt is similar to article35.txt with a Similarity Index of 1.961%\n",
      "\n",
      "\n",
      "article37.txt is similar to article21.txt with a Similarity Index of 1.786%\n",
      "\n",
      "\n",
      "article11.txt is similar to article10.txt with a Similarity Index of 1.301%\n",
      "\n",
      "\n",
      "article10.txt is similar to article13.txt with a Similarity Index of 21.798%\n",
      "\n",
      "\n",
      "article10.txt is similar to article14.txt with a Similarity Index of 3.052%\n",
      "\n",
      "\n",
      "article10.txt is similar to article6.txt with a Similarity Index of 6.166%\n",
      "\n",
      "\n",
      "article17.txt is similar to article16.txt with a Similarity Index of 72.589%\n",
      "\n",
      "\n",
      "article14.txt is similar to article6.txt with a Similarity Index of 8.135%\n",
      "\n",
      "\n",
      "article4.txt is similar to article1.txt with a Similarity Index of 1.307%\n",
      "\n",
      "\n",
      "article4.txt is similar to article3.txt with a Similarity Index of 13.592%\n",
      "\n",
      "\n",
      "article1.txt is similar to article3.txt with a Similarity Index of 1.429%\n",
      "\n",
      "\n"
     ]
    }
   ],
   "source": [
    "articles_comparison = compare_files(dir+'Assignment 3 Articles/',ngram_size=3,threshold=0.012)\n",
    "\n",
    "\n",
    "for k,v in articles_comparison.items():\n",
    "    art1, art2 = k.split(',')\n",
    "    similarity_index = v\n",
    "    print (str(art1) + \" is similar to \" + str(art2) + \n",
    "           \" with a Similarity Index of \" + '{percent:.3%}'.format(percent=similarity_index) +\"\\n\" +\"\\n\")"
   ]
  },
  {
   "cell_type": "markdown",
   "metadata": {
    "collapsed": true
   },
   "source": [
    "Based on the result above, we can see that article17 and article16 are the most similar articles with a similairty index of 72%. This similarity value is very high among the rest of the pairs as we can see the next most similar pair of articles only have a similarity value of 21% (article 10 and article 13). One pattern that we see is the most pair of articles that have similarity index above our threshold are articles that have indexes close to each other (article 16 and 17, article 10 and 13, article 4 and 3, etc.). "
   ]
  }
 ],
 "metadata": {
  "kernelspec": {
   "display_name": "Python 3",
   "language": "python",
   "name": "python3"
  },
  "language_info": {
   "codemirror_mode": {
    "name": "ipython",
    "version": 3
   },
   "file_extension": ".py",
   "mimetype": "text/x-python",
   "name": "python",
   "nbconvert_exporter": "python",
   "pygments_lexer": "ipython3",
   "version": "3.7.3"
  }
 },
 "nbformat": 4,
 "nbformat_minor": 1
}
